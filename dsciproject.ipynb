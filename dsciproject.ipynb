{
 "cells": [
  {
   "cell_type": "markdown",
   "id": "dd61fe89-e951-4c1c-a82a-c1d7536682a6",
   "metadata": {},
   "source": [
    "<font size=\"6\">Project Proposal: Predicting Quality of Wine </font>"
   ]
  },
  {
   "cell_type": "markdown",
   "id": "f0a94075-6ab4-478c-989a-3f62b342161f",
   "metadata": {},
   "source": [
    "<font size=\"5\">Introduction</font>"
   ]
  },
  {
   "cell_type": "markdown",
   "id": "3a1934b0-7c23-413a-8c54-56acc26e2c7e",
   "metadata": {},
   "source": [
    "In this project, we found a large data set pertaining to the quality of different wines. It had 13 columns, 11 of which were factors in predicting the quality of different wines. From there, we researched what gives certain wines specific properties that make them high in quality as compared to low. The quality of wine can be a factor in its cost and thus is an important measurement for sellers and buyers. It is known that volatile acidity, total sulfur dioxide and chlorides are three factors that play the largest role in determining the quality of wine. Thus, this project will analyze these factors and develop a system for predicting quality based off of just these three qualifiers in an attemp to make a system adept to determining the value of batches of wine."
   ]
  },
  {
   "cell_type": "markdown",
   "id": "1cac737f-2083-4230-9e16-1864596acd6f",
   "metadata": {},
   "source": [
    "<font size=\"3\">Question:</font> blah?"
   ]
  },
  {
   "cell_type": "markdown",
   "id": "b87b74c3-48fb-4a8c-9456-f882d1626531",
   "metadata": {},
   "source": [
    "The data set \"Wine Quality\" can be found at https://www.kaggle.com/datasets/rajyellow46/wine-quality, and displays a number of measurable factors of wines as well as the quality rating of each wine including but not limited to Volatile Acidity, Chlorides, Sulfur Dioxide."
   ]
  },
  {
   "cell_type": "code",
   "execution_count": 174,
   "id": "8fcb58f4-b60d-44d8-ae73-ec0652b133d8",
   "metadata": {},
   "outputs": [],
   "source": [
    "library(tidyverse)\n",
    "library(repr)\n",
    "library(tidymodels)\n",
    "library(dplyr)"
   ]
  },
  {
   "cell_type": "code",
   "execution_count": 173,
   "id": "1f1542f5-edf4-4e2d-aff6-cff9a46bafcb",
   "metadata": {},
   "outputs": [
    {
     "name": "stderr",
     "output_type": "stream",
     "text": [
      "\u001b[1mRows: \u001b[22m\u001b[34m6498\u001b[39m \u001b[1mColumns: \u001b[22m\u001b[34m13\u001b[39m\n",
      "\u001b[36m──\u001b[39m \u001b[1mColumn specification\u001b[22m \u001b[36m────────────────────────────────────────────────────────\u001b[39m\n",
      "\u001b[1mDelimiter:\u001b[22m \",\"\n",
      "\u001b[31mchr\u001b[39m (13): type, fixed.acidity, volatile.acidity, citric.acid, residual.sugar...\n",
      "\n",
      "\u001b[36mℹ\u001b[39m Use `spec()` to retrieve the full column specification for this data.\n",
      "\u001b[36mℹ\u001b[39m Specify the column types or set `show_col_types = FALSE` to quiet this message.\n"
     ]
    }
   ],
   "source": [
    "wine_quality <- read_csv(file = \"/home/jovyan/dsci-project/DSCI-Project/winequalityN.csv\", \n",
    "                         make.names(colnames(wine_quality)))\n",
    "\n",
    "white_quality <- filter(wine_quality, type == \"white\") |>\n",
    "                select(volatile.acidity, chlorides, total.sulfur.dioxide, quality) |>\n",
    "                na.omit(volatile.acidity, chlorides, total.sulfur.dioxide, quality)\n",
    "white_quality$volatile.acidity <- as.numeric(white_quality$volatile.acidity)\n",
    "white_quality$chlorides<-as.numeric(white_quality$chlorides)\n",
    "white_quality$total.sulfur.dioxide<-as.numeric(white_quality$total.sulfur.dioxide)\n",
    "white_quality$quality<-as.numeric(white_quality$quality)"
   ]
  },
  {
   "cell_type": "code",
   "execution_count": 168,
   "id": "bcb3df12-36a7-47c0-ab40-421a25dd988c",
   "metadata": {},
   "outputs": [],
   "source": [
    "wine_split <- initial_split(white_quality, prop = 0.75, strata = quality)\n",
    "wine_train <- training (wine_split)\n",
    "wine_test <- testing(wine_split)"
   ]
  },
  {
   "cell_type": "code",
   "execution_count": 169,
   "id": "ae26c75f-afca-43b8-ae7c-eb27e547cb56",
   "metadata": {},
   "outputs": [],
   "source": [
    "#summarize with training data"
   ]
  },
  {
   "cell_type": "code",
   "execution_count": 170,
   "id": "582cb5b7-d9c6-4120-9ba3-dbd64e3daba8",
   "metadata": {},
   "outputs": [
    {
     "data": {
      "text/html": [
       "<table class=\"dataframe\">\n",
       "<caption>A tibble: 7 × 4</caption>\n",
       "<thead>\n",
       "\t<tr><th scope=col>quality</th><th scope=col>mean.vol</th><th scope=col>mean.chlor</th><th scope=col>mean.sulf</th></tr>\n",
       "\t<tr><th scope=col>&lt;dbl&gt;</th><th scope=col>&lt;dbl&gt;</th><th scope=col>&lt;dbl&gt;</th><th scope=col>&lt;dbl&gt;</th></tr>\n",
       "</thead>\n",
       "<tbody>\n",
       "\t<tr><td>3</td><td>0.3712500</td><td>0.06300000</td><td>168.4167</td></tr>\n",
       "\t<tr><td>4</td><td>0.3765289</td><td>0.05065289</td><td>127.8967</td></tr>\n",
       "\t<tr><td>5</td><td>0.3039534</td><td>0.05136197</td><td>151.8661</td></tr>\n",
       "\t<tr><td>6</td><td>0.2597447</td><td>0.04506261</td><td>136.8006</td></tr>\n",
       "\t<tr><td>7</td><td>0.2618028</td><td>0.03832512</td><td>125.5262</td></tr>\n",
       "\t<tr><td>8</td><td>0.2760072</td><td>0.03751799</td><td>125.3129</td></tr>\n",
       "\t<tr><td>9</td><td>0.2980000</td><td>0.02740000</td><td>116.0000</td></tr>\n",
       "</tbody>\n",
       "</table>\n"
      ],
      "text/latex": [
       "A tibble: 7 × 4\n",
       "\\begin{tabular}{llll}\n",
       " quality & mean.vol & mean.chlor & mean.sulf\\\\\n",
       " <dbl> & <dbl> & <dbl> & <dbl>\\\\\n",
       "\\hline\n",
       "\t 3 & 0.3712500 & 0.06300000 & 168.4167\\\\\n",
       "\t 4 & 0.3765289 & 0.05065289 & 127.8967\\\\\n",
       "\t 5 & 0.3039534 & 0.05136197 & 151.8661\\\\\n",
       "\t 6 & 0.2597447 & 0.04506261 & 136.8006\\\\\n",
       "\t 7 & 0.2618028 & 0.03832512 & 125.5262\\\\\n",
       "\t 8 & 0.2760072 & 0.03751799 & 125.3129\\\\\n",
       "\t 9 & 0.2980000 & 0.02740000 & 116.0000\\\\\n",
       "\\end{tabular}\n"
      ],
      "text/markdown": [
       "\n",
       "A tibble: 7 × 4\n",
       "\n",
       "| quality &lt;dbl&gt; | mean.vol &lt;dbl&gt; | mean.chlor &lt;dbl&gt; | mean.sulf &lt;dbl&gt; |\n",
       "|---|---|---|---|\n",
       "| 3 | 0.3712500 | 0.06300000 | 168.4167 |\n",
       "| 4 | 0.3765289 | 0.05065289 | 127.8967 |\n",
       "| 5 | 0.3039534 | 0.05136197 | 151.8661 |\n",
       "| 6 | 0.2597447 | 0.04506261 | 136.8006 |\n",
       "| 7 | 0.2618028 | 0.03832512 | 125.5262 |\n",
       "| 8 | 0.2760072 | 0.03751799 | 125.3129 |\n",
       "| 9 | 0.2980000 | 0.02740000 | 116.0000 |\n",
       "\n"
      ],
      "text/plain": [
       "  quality mean.vol  mean.chlor mean.sulf\n",
       "1 3       0.3712500 0.06300000 168.4167 \n",
       "2 4       0.3765289 0.05065289 127.8967 \n",
       "3 5       0.3039534 0.05136197 151.8661 \n",
       "4 6       0.2597447 0.04506261 136.8006 \n",
       "5 7       0.2618028 0.03832512 125.5262 \n",
       "6 8       0.2760072 0.03751799 125.3129 \n",
       "7 9       0.2980000 0.02740000 116.0000 "
      ]
     },
     "metadata": {},
     "output_type": "display_data"
    }
   ],
   "source": [
    "wine_table <- wine_train|>\n",
    "    group_by(quality)|>           \n",
    "    summarize(mean.vol = mean(volatile.acidity), mean.chlor = mean(chlorides), mean.sulf = mean(total.sulfur.dioxide))\n",
    "\n",
    "wine_table"
   ]
  },
  {
   "cell_type": "code",
   "execution_count": 171,
   "id": "3ef6c505-03db-4f93-96b8-268150526b8e",
   "metadata": {},
   "outputs": [],
   "source": [
    "#plot with training data"
   ]
  },
  {
   "cell_type": "code",
   "execution_count": 172,
   "id": "4f2b1313-5a5d-477e-85d9-20eebe075847",
   "metadata": {},
   "outputs": [
    {
     "data": {
      "image/png": "[encoded data removed]",
      "text/plain": [
       "plot without title"
      ]
     },
     "metadata": {
      "image/png": {
       "height": 240,
       "width": 900
      }
     },
     "output_type": "display_data"
    }
   ],
   "source": [
    "library(ggplot2)\n",
    "library(patchwork)\n",
    "\n",
    "options(repr.plot.height = 4, repr.plot.width = 15)\n",
    "plot_wine_vol <- wine_table |>\n",
    "                    ggplot(aes(x= quality, y=mean.vol))+\n",
    "                           geom_bar(stat = \"identity\") +\n",
    "                           labs(x = \"Mean Volatile Acidity\", y = \"Quality (on scale of 10)\", \n",
    "                                title = \"Mean Volatile Acidty Against Quality of Wine\")+\n",
    "                                theme(text = element_text(size = 10))\n",
    "                        \n",
    "\n",
    "plot_wine_chlor <- wine_table |>\n",
    "                    ggplot(aes(x= quality, y=mean.chlor))+\n",
    "                           geom_bar(stat = \"identity\") +\n",
    "                           labs(x = \"Mean Chloride Level\", y = \"Quality (on scale of 10)\", \n",
    "                                title = \"Mean Chloride Levels Against Quality of Wine\")+\n",
    "                                theme(text = element_text(size = 10))\n",
    "plot_wine_sulf <- wine_table |>\n",
    "                    ggplot(aes(x= quality, y=mean.sulf))+\n",
    "                           geom_bar(stat = \"identity\") +\n",
    "                           labs(x = \"Mean Sulfide Level\", y = \"Quality (on scale of 10)\", \n",
    "                                title = \"Mean Sulfide Levels Against Quality of Wine\")+\n",
    "                                theme(text = element_text(size = 10))\n",
    "                            \n",
    "plot_wine_chlor+plot_wine_vol+plot_wine_sulf"
   ]
  },
  {
   "cell_type": "markdown",
   "id": "1ceca882-3da0-49a5-acea-b677802d002e",
   "metadata": {},
   "source": [
    "<font size=\"5\">Methods</font>"
   ]
  },
  {
   "cell_type": "markdown",
   "id": "649348a1-293b-49f0-96bc-8d512bbd0683",
   "metadata": {},
   "source": []
  },
  {
   "cell_type": "code",
   "execution_count": null,
   "id": "0170c7d2-124a-44a5-a83b-61e5ab19560e",
   "metadata": {},
   "outputs": [],
   "source": []
  }
 ],
 "metadata": {
  "kernelspec": {
   "display_name": "R",
   "language": "R",
   "name": "ir"
  },
  "language_info": {
   "codemirror_mode": "r",
   "file_extension": ".r",
   "mimetype": "text/x-r-source",
   "name": "R",
   "pygments_lexer": "r",
   "version": "4.1.3"
  }
 },
 "nbformat": 4,
 "nbformat_minor": 5
}
