{
 "cells": [
  {
   "cell_type": "markdown",
   "id": "dd61fe89-e951-4c1c-a82a-c1d7536682a6",
   "metadata": {},
   "source": [
    "<font size=\"6\">Project Proposal: Predicting Quality of Wine </font>"
   ]
  },
  {
   "cell_type": "markdown",
   "id": "f0a94075-6ab4-478c-989a-3f62b342161f",
   "metadata": {},
   "source": [
    "<font size=\"5\">Introduction</font>"
   ]
  },
  {
   "cell_type": "markdown",
   "id": "3a1934b0-7c23-413a-8c54-56acc26e2c7e",
   "metadata": {},
   "source": [
    "Wine quality is a rating important to many people, connoisseurs and distributors alike. The quality of a wine can be a factor in determining its value and thus is regarded quite often. There are a multitude of factors in a wine that can contribute to its overall rating . "
   ]
  },
  {
   "cell_type": "markdown",
   "id": "1cac737f-2083-4230-9e16-1864596acd6f",
   "metadata": {},
   "source": [
    "Thus, this project will analyze contributors and develop a system adept to determining the value of batches of wine. We aim to predict the quality of wine using a regression model based on the three factors we determined to be the most important: Volatile Acitidy, Chlorides, and Total Sulfur Dioxide."
   ]
  },
  {
   "cell_type": "markdown",
   "id": "630c7564-8501-459b-ad3b-46baff66d9d2",
   "metadata": {},
   "source": [
    "The dataset, with 6497 rows and 13 columns, is obtained from the UCI Machine Learning Repository. It can be found at https://www.kaggle.com/datasets/rajyellow46/wine-quality, and displays a number of measurable factors of wines including but not limited to those mentioned above - as well as the quality rating of each wine (rated on a scale of zero to ten). Not all quality levels are represented equally. It was collected in 2009 and combines two data sets. A total of 11 measured factors of wine are present, some represented in a scale of integers and others on a continuous scale. We have selected the three above factors to predict quality as not all factors are of equal importance."
   ]
  },
  {
   "cell_type": "code",
   "execution_count": 1,
   "id": "8fcb58f4-b60d-44d8-ae73-ec0652b133d8",
   "metadata": {},
   "outputs": [
    {
     "name": "stderr",
     "output_type": "stream",
     "text": [
      "── \u001b[1mAttaching packages\u001b[22m ─────────────────────────────────────── tidyverse 1.3.1 ──\n",
      "\n",
      "\u001b[32m✔\u001b[39m \u001b[34mggplot2\u001b[39m 3.3.6     \u001b[32m✔\u001b[39m \u001b[34mpurrr  \u001b[39m 0.3.4\n",
      "\u001b[32m✔\u001b[39m \u001b[34mtibble \u001b[39m 3.1.7     \u001b[32m✔\u001b[39m \u001b[34mdplyr  \u001b[39m 1.0.9\n",
      "\u001b[32m✔\u001b[39m \u001b[34mtidyr  \u001b[39m 1.2.0     \u001b[32m✔\u001b[39m \u001b[34mstringr\u001b[39m 1.4.0\n",
      "\u001b[32m✔\u001b[39m \u001b[34mreadr  \u001b[39m 2.1.2     \u001b[32m✔\u001b[39m \u001b[34mforcats\u001b[39m 0.5.1\n",
      "\n",
      "── \u001b[1mConflicts\u001b[22m ────────────────────────────────────────── tidyverse_conflicts() ──\n",
      "\u001b[31m✖\u001b[39m \u001b[34mdplyr\u001b[39m::\u001b[32mfilter()\u001b[39m masks \u001b[34mstats\u001b[39m::filter()\n",
      "\u001b[31m✖\u001b[39m \u001b[34mdplyr\u001b[39m::\u001b[32mlag()\u001b[39m    masks \u001b[34mstats\u001b[39m::lag()\n",
      "\n",
      "── \u001b[1mAttaching packages\u001b[22m ────────────────────────────────────── tidymodels 1.0.0 ──\n",
      "\n",
      "\u001b[32m✔\u001b[39m \u001b[34mbroom       \u001b[39m 1.0.0     \u001b[32m✔\u001b[39m \u001b[34mrsample     \u001b[39m 1.0.0\n",
      "\u001b[32m✔\u001b[39m \u001b[34mdials       \u001b[39m 1.0.0     \u001b[32m✔\u001b[39m \u001b[34mtune        \u001b[39m 1.0.0\n",
      "\u001b[32m✔\u001b[39m \u001b[34minfer       \u001b[39m 1.0.2     \u001b[32m✔\u001b[39m \u001b[34mworkflows   \u001b[39m 1.0.0\n",
      "\u001b[32m✔\u001b[39m \u001b[34mmodeldata   \u001b[39m 1.0.0     \u001b[32m✔\u001b[39m \u001b[34mworkflowsets\u001b[39m 1.0.0\n",
      "\u001b[32m✔\u001b[39m \u001b[34mparsnip     \u001b[39m 1.0.0     \u001b[32m✔\u001b[39m \u001b[34myardstick   \u001b[39m 1.0.0\n",
      "\u001b[32m✔\u001b[39m \u001b[34mrecipes     \u001b[39m 1.0.1     \n",
      "\n",
      "── \u001b[1mConflicts\u001b[22m ───────────────────────────────────────── tidymodels_conflicts() ──\n",
      "\u001b[31m✖\u001b[39m \u001b[34mscales\u001b[39m::\u001b[32mdiscard()\u001b[39m masks \u001b[34mpurrr\u001b[39m::discard()\n",
      "\u001b[31m✖\u001b[39m \u001b[34mdplyr\u001b[39m::\u001b[32mfilter()\u001b[39m   masks \u001b[34mstats\u001b[39m::filter()\n",
      "\u001b[31m✖\u001b[39m \u001b[34mrecipes\u001b[39m::\u001b[32mfixed()\u001b[39m  masks \u001b[34mstringr\u001b[39m::fixed()\n",
      "\u001b[31m✖\u001b[39m \u001b[34mdplyr\u001b[39m::\u001b[32mlag()\u001b[39m      masks \u001b[34mstats\u001b[39m::lag()\n",
      "\u001b[31m✖\u001b[39m \u001b[34myardstick\u001b[39m::\u001b[32mspec()\u001b[39m masks \u001b[34mreadr\u001b[39m::spec()\n",
      "\u001b[31m✖\u001b[39m \u001b[34mrecipes\u001b[39m::\u001b[32mstep()\u001b[39m   masks \u001b[34mstats\u001b[39m::step()\n",
      "\u001b[34m•\u001b[39m Dig deeper into tidy modeling with R at \u001b[32mhttps://www.tmwr.org\u001b[39m\n",
      "\n"
     ]
    }
   ],
   "source": [
    "library(tidyverse)\n",
    "library(repr)\n",
    "library(tidymodels)\n",
    "library(dplyr)"
   ]
  },
  {
   "cell_type": "code",
   "execution_count": 3,
   "id": "1f1542f5-edf4-4e2d-aff6-cff9a46bafcb",
   "metadata": {},
   "outputs": [],
   "source": [
    "wine_quality <- read_csv(file = \"/home/jovyan/dsci-project/DSCI-Project/winequalityN.csv\", show_col_types = FALSE)\n",
    "\n",
    "names(wine_quality) <- make.names(colnames(wine_quality))\n",
    "\n",
    "\n",
    "white_quality <- filter(wine_quality, type == \"white\") |>\n",
    "                select(volatile.acidity, chlorides, total.sulfur.dioxide, quality) |>\n",
    "                na.omit(volatile.acidity, chlorides, total.sulfur.dioxide, quality)\n",
    "white_quality$volatile.acidity <- as.numeric(white_quality$volatile.acidity)\n",
    "white_quality$chlorides<-as.numeric(white_quality$chlorides)\n",
    "white_quality$total.sulfur.dioxide<-as.numeric(white_quality$total.sulfur.dioxide)\n",
    "white_quality$quality<-as.numeric(white_quality$quality)"
   ]
  },
  {
   "cell_type": "code",
   "execution_count": 4,
   "id": "bcb3df12-36a7-47c0-ab40-421a25dd988c",
   "metadata": {},
   "outputs": [],
   "source": [
    "wine_split <- initial_split(white_quality, prop = 0.75, strata = quality)\n",
    "wine_train <- training (wine_split)\n",
    "wine_test <- testing(wine_split)"
   ]
  },
  {
   "cell_type": "code",
   "execution_count": 5,
   "id": "ae26c75f-afca-43b8-ae7c-eb27e547cb56",
   "metadata": {},
   "outputs": [],
   "source": [
    "#summarize with training data"
   ]
  },
  {
   "cell_type": "code",
   "execution_count": 6,
   "id": "582cb5b7-d9c6-4120-9ba3-dbd64e3daba8",
   "metadata": {},
   "outputs": [
    {
     "data": {
      "text/html": [
       "<table class=\"dataframe\">\n",
       "<caption>A tibble: 7 × 4</caption>\n",
       "<thead>\n",
       "\t<tr><th scope=col>quality</th><th scope=col>mean.vol</th><th scope=col>mean.chlor</th><th scope=col>mean.sulf</th></tr>\n",
       "\t<tr><th scope=col>&lt;dbl&gt;</th><th scope=col>&lt;dbl&gt;</th><th scope=col>&lt;dbl&gt;</th><th scope=col>&lt;dbl&gt;</th></tr>\n",
       "</thead>\n",
       "<tbody>\n",
       "\t<tr><td>3</td><td>0.3480556</td><td>0.05544444</td><td>181.5556</td></tr>\n",
       "\t<tr><td>4</td><td>0.3899206</td><td>0.04961111</td><td>127.5119</td></tr>\n",
       "\t<tr><td>5</td><td>0.2986704</td><td>0.05127793</td><td>150.8906</td></tr>\n",
       "\t<tr><td>6</td><td>0.2606930</td><td>0.04526930</td><td>138.1170</td></tr>\n",
       "\t<tr><td>7</td><td>0.2671548</td><td>0.03831715</td><td>125.3930</td></tr>\n",
       "\t<tr><td>8</td><td>0.2779457</td><td>0.03735659</td><td>125.5078</td></tr>\n",
       "\t<tr><td>9</td><td>0.2980000</td><td>0.02740000</td><td>116.0000</td></tr>\n",
       "</tbody>\n",
       "</table>\n"
      ],
      "text/latex": [
       "A tibble: 7 × 4\n",
       "\\begin{tabular}{llll}\n",
       " quality & mean.vol & mean.chlor & mean.sulf\\\\\n",
       " <dbl> & <dbl> & <dbl> & <dbl>\\\\\n",
       "\\hline\n",
       "\t 3 & 0.3480556 & 0.05544444 & 181.5556\\\\\n",
       "\t 4 & 0.3899206 & 0.04961111 & 127.5119\\\\\n",
       "\t 5 & 0.2986704 & 0.05127793 & 150.8906\\\\\n",
       "\t 6 & 0.2606930 & 0.04526930 & 138.1170\\\\\n",
       "\t 7 & 0.2671548 & 0.03831715 & 125.3930\\\\\n",
       "\t 8 & 0.2779457 & 0.03735659 & 125.5078\\\\\n",
       "\t 9 & 0.2980000 & 0.02740000 & 116.0000\\\\\n",
       "\\end{tabular}\n"
      ],
      "text/markdown": [
       "\n",
       "A tibble: 7 × 4\n",
       "\n",
       "| quality &lt;dbl&gt; | mean.vol &lt;dbl&gt; | mean.chlor &lt;dbl&gt; | mean.sulf &lt;dbl&gt; |\n",
       "|---|---|---|---|\n",
       "| 3 | 0.3480556 | 0.05544444 | 181.5556 |\n",
       "| 4 | 0.3899206 | 0.04961111 | 127.5119 |\n",
       "| 5 | 0.2986704 | 0.05127793 | 150.8906 |\n",
       "| 6 | 0.2606930 | 0.04526930 | 138.1170 |\n",
       "| 7 | 0.2671548 | 0.03831715 | 125.3930 |\n",
       "| 8 | 0.2779457 | 0.03735659 | 125.5078 |\n",
       "| 9 | 0.2980000 | 0.02740000 | 116.0000 |\n",
       "\n"
      ],
      "text/plain": [
       "  quality mean.vol  mean.chlor mean.sulf\n",
       "1 3       0.3480556 0.05544444 181.5556 \n",
       "2 4       0.3899206 0.04961111 127.5119 \n",
       "3 5       0.2986704 0.05127793 150.8906 \n",
       "4 6       0.2606930 0.04526930 138.1170 \n",
       "5 7       0.2671548 0.03831715 125.3930 \n",
       "6 8       0.2779457 0.03735659 125.5078 \n",
       "7 9       0.2980000 0.02740000 116.0000 "
      ]
     },
     "metadata": {},
     "output_type": "display_data"
    }
   ],
   "source": [
    "wine_table <- wine_train|>\n",
    "    group_by(quality)|>           \n",
    "    summarize(mean.vol = mean(volatile.acidity), mean.chlor = mean(chlorides), \n",
    "              mean.sulf = mean(total.sulfur.dioxide))\n",
    "\n",
    "wine_table"
   ]
  },
  {
   "cell_type": "code",
   "execution_count": 7,
   "id": "3ef6c505-03db-4f93-96b8-268150526b8e",
   "metadata": {},
   "outputs": [],
   "source": [
    "#plot with training data"
   ]
  },
  {
   "cell_type": "code",
   "execution_count": 9,
   "id": "4f2b1313-5a5d-477e-85d9-20eebe075847",
   "metadata": {},
   "outputs": [
    {
     "data": {
      "image/png": "[encoded data removed]",
      "text/plain": [
       "plot without title"
      ]
     },
     "metadata": {
      "image/png": {
       "height": 240,
       "width": 900
      }
     },
     "output_type": "display_data"
    }
   ],
   "source": [
    "library(ggplot2)\n",
    "library(patchwork)\n",
    "\n",
    "options(repr.plot.height = 4, repr.plot.width = 15)\n",
    "plot_wine_vol <- wine_table |>\n",
    "                    ggplot(aes(x= quality, y=mean.vol))+\n",
    "                           geom_bar(stat = \"identity\") +\n",
    "                           labs(x = \"Mean Volatile Acidity\", y = \"Quality (on scale of 10)\", \n",
    "                                title = \"Mean Volatile Acidty Against Quality of Wine\")+\n",
    "                                theme(text = element_text(size = 10))\n",
    "                        \n",
    "\n",
    "plot_wine_chlor <- wine_table |>\n",
    "                    ggplot(aes(x= quality, y=mean.chlor))+\n",
    "                           geom_bar(stat = \"identity\") +\n",
    "                           labs(x = \"Mean Chloride Level\", y = \"Quality (on scale of 10)\", \n",
    "                                title = \"Mean Chloride Levels Against Quality of Wine\")+\n",
    "                                theme(text = element_text(size = 10))\n",
    "plot_wine_sulf <- wine_table |>\n",
    "                    ggplot(aes(x= quality, y=mean.sulf))+\n",
    "                           geom_bar(stat = \"identity\") +\n",
    "                           labs(x = \"Mean Sulfide Level\", y = \"Quality (on scale of 10)\", \n",
    "                                title = \"Mean Sulfide Levels Against Quality of Wine\")+\n",
    "                                theme(text = element_text(size = 10))\n",
    "                            \n",
    "plot_wine_vol+plot_wine_chlor+plot_wine_sulf"
   ]
  },
  {
   "cell_type": "markdown",
   "id": "1ceca882-3da0-49a5-acea-b677802d002e",
   "metadata": {},
   "source": [
    "<font size=\"5\">Methods</font>"
   ]
  },
  {
   "cell_type": "markdown",
   "id": "649348a1-293b-49f0-96bc-8d512bbd0683",
   "metadata": {},
   "source": [
    "We will conduct our data analysis by carrying out a multiple regression model adept to determining wine quality using these three variables: volatile acidity, total sulfur dioxide, and chlorides. We chose these because we believe them to be the most predictive of quality in comparison to the others. We are limiting the type of wine to white wine so that our prediction is more accurate as red and white wine could have different levels of variables that determine what is “good” quality. Our model will be visualized with a three dimensional continuous scatterplot containing all three predictive values in which the quality of each wine is shown by color."
   ]
  },
  {
   "cell_type": "markdown",
   "id": "5943785e-9b96-4a15-98b1-f8964321520a",
   "metadata": {},
   "source": [
    "<font size=\"5\">Expected Outcomes and Significance</font>"
   ]
  },
  {
   "cell_type": "markdown",
   "id": "b963b6a5-6b72-4dad-8a8a-06d798484163",
   "metadata": {},
   "source": [
    "We expect to find a relationship between Volatile Acidity, Chorides, and Sulfides and the Quality of a white wine that is capable of providing predictor values. This predictor could impact how experts measure or determine quality and could then be used in a similar fashion for other white wines and red wines as well. Potentially, understanding the combinations of these factors that create good quality wine could impact the processes makers use to try to attain similar levels in their own wine.\n"
   ]
  },
  {
   "cell_type": "code",
   "execution_count": null,
   "id": "4e813f28-d656-41f4-a5b6-7331219aecec",
   "metadata": {},
   "outputs": [],
   "source": []
  }
 ],
 "metadata": {
  "kernelspec": {
   "display_name": "R",
   "language": "R",
   "name": "ir"
  },
  "language_info": {
   "codemirror_mode": "r",
   "file_extension": ".r",
   "mimetype": "text/x-r-source",
   "name": "R",
   "pygments_lexer": "r",
   "version": "4.1.3"
  }
 },
 "nbformat": 4,
 "nbformat_minor": 5
}
