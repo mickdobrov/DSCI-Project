{
 "cells": [
  {
   "cell_type": "code",
   "execution_count": 1,
   "id": "61bdbf23-f498-4a6e-b14f-1e47d9df1de7",
   "metadata": {},
   "outputs": [
    {
     "name": "stderr",
     "output_type": "stream",
     "text": [
      "── \u001b[1mAttaching packages\u001b[22m ─────────────────────────────────────── tidyverse 1.3.1 ──\n",
      "\n",
      "\u001b[32m✔\u001b[39m \u001b[34mggplot2\u001b[39m 3.3.6     \u001b[32m✔\u001b[39m \u001b[34mpurrr  \u001b[39m 0.3.4\n",
      "\u001b[32m✔\u001b[39m \u001b[34mtibble \u001b[39m 3.1.7     \u001b[32m✔\u001b[39m \u001b[34mdplyr  \u001b[39m 1.0.9\n",
      "\u001b[32m✔\u001b[39m \u001b[34mtidyr  \u001b[39m 1.2.0     \u001b[32m✔\u001b[39m \u001b[34mstringr\u001b[39m 1.4.0\n",
      "\u001b[32m✔\u001b[39m \u001b[34mreadr  \u001b[39m 2.1.2     \u001b[32m✔\u001b[39m \u001b[34mforcats\u001b[39m 0.5.1\n",
      "\n",
      "── \u001b[1mConflicts\u001b[22m ────────────────────────────────────────── tidyverse_conflicts() ──\n",
      "\u001b[31m✖\u001b[39m \u001b[34mdplyr\u001b[39m::\u001b[32mfilter()\u001b[39m masks \u001b[34mstats\u001b[39m::filter()\n",
      "\u001b[31m✖\u001b[39m \u001b[34mdplyr\u001b[39m::\u001b[32mlag()\u001b[39m    masks \u001b[34mstats\u001b[39m::lag()\n",
      "\n",
      "── \u001b[1mAttaching packages\u001b[22m ────────────────────────────────────── tidymodels 1.0.0 ──\n",
      "\n",
      "\u001b[32m✔\u001b[39m \u001b[34mbroom       \u001b[39m 1.0.0     \u001b[32m✔\u001b[39m \u001b[34mrsample     \u001b[39m 1.0.0\n",
      "\u001b[32m✔\u001b[39m \u001b[34mdials       \u001b[39m 1.0.0     \u001b[32m✔\u001b[39m \u001b[34mtune        \u001b[39m 1.0.0\n",
      "\u001b[32m✔\u001b[39m \u001b[34minfer       \u001b[39m 1.0.2     \u001b[32m✔\u001b[39m \u001b[34mworkflows   \u001b[39m 1.0.0\n",
      "\u001b[32m✔\u001b[39m \u001b[34mmodeldata   \u001b[39m 1.0.0     \u001b[32m✔\u001b[39m \u001b[34mworkflowsets\u001b[39m 1.0.0\n",
      "\u001b[32m✔\u001b[39m \u001b[34mparsnip     \u001b[39m 1.0.0     \u001b[32m✔\u001b[39m \u001b[34myardstick   \u001b[39m 1.0.0\n",
      "\u001b[32m✔\u001b[39m \u001b[34mrecipes     \u001b[39m 1.0.1     \n",
      "\n",
      "── \u001b[1mConflicts\u001b[22m ───────────────────────────────────────── tidymodels_conflicts() ──\n",
      "\u001b[31m✖\u001b[39m \u001b[34mscales\u001b[39m::\u001b[32mdiscard()\u001b[39m masks \u001b[34mpurrr\u001b[39m::discard()\n",
      "\u001b[31m✖\u001b[39m \u001b[34mdplyr\u001b[39m::\u001b[32mfilter()\u001b[39m   masks \u001b[34mstats\u001b[39m::filter()\n",
      "\u001b[31m✖\u001b[39m \u001b[34mrecipes\u001b[39m::\u001b[32mfixed()\u001b[39m  masks \u001b[34mstringr\u001b[39m::fixed()\n",
      "\u001b[31m✖\u001b[39m \u001b[34mdplyr\u001b[39m::\u001b[32mlag()\u001b[39m      masks \u001b[34mstats\u001b[39m::lag()\n",
      "\u001b[31m✖\u001b[39m \u001b[34myardstick\u001b[39m::\u001b[32mspec()\u001b[39m masks \u001b[34mreadr\u001b[39m::spec()\n",
      "\u001b[31m✖\u001b[39m \u001b[34mrecipes\u001b[39m::\u001b[32mstep()\u001b[39m   masks \u001b[34mstats\u001b[39m::step()\n",
      "\u001b[34m•\u001b[39m Search for functions across packages at \u001b[32mhttps://www.tidymodels.org/find/\u001b[39m\n",
      "\n"
     ]
    }
   ],
   "source": [
    "library(tidyverse)\n",
    "library(repr)\n",
    "library(tidymodels)\n",
    "library(dplyr)\n",
    "library(ggplot2)\n",
    "library(patchwork)"
   ]
  },
  {
   "cell_type": "code",
   "execution_count": 2,
   "id": "938d4467-d0d6-4969-b09d-a8cdd152b45b",
   "metadata": {},
   "outputs": [],
   "source": [
    "wine_quality <- read_csv(file = \"/home/jovyan/dsci-project/DSCI-Project/winequalityN.csv\", show_col_types = FALSE)\n",
    "\n",
    "names(wine_quality) <- make.names(colnames(wine_quality))\n",
    "\n",
    "white_quality <- filter(wine_quality, type == \"white\") |>\n",
    "                select(volatile.acidity, chlorides, total.sulfur.dioxide, quality) |>\n",
    "                na.omit(volatile.acidity, chlorides, total.sulfur.dioxide, quality)\n",
    "white_quality$volatile.acidity <- as.numeric(white_quality$volatile.acidity)\n",
    "white_quality$chlorides<-as.numeric(white_quality$chlorides)\n",
    "white_quality$total.sulfur.dioxide<-as.numeric(white_quality$total.sulfur.dioxide)\n",
    "white_quality$quality<-as.factor(white_quality$quality)"
   ]
  },
  {
   "cell_type": "code",
   "execution_count": 3,
   "id": "7b437e25-c192-40d7-82cb-997880abc68b",
   "metadata": {},
   "outputs": [],
   "source": [
    "set.seed(135)\n",
    "wine_split <- initial_split(white_quality, prop = 0.75, strata = quality)\n",
    "wine_train <- training (wine_split)\n",
    "wine_test <- testing(wine_split)"
   ]
  },
  {
   "cell_type": "code",
   "execution_count": 4,
   "id": "c21bf11f-9641-4c9b-a4df-4d083d3597b3",
   "metadata": {},
   "outputs": [],
   "source": [
    "#summarize with training data"
   ]
  },
  {
   "cell_type": "code",
   "execution_count": 5,
   "id": "0e846300-bbb3-494c-a6fb-473951afcce3",
   "metadata": {},
   "outputs": [
    {
     "data": {
      "text/html": [
       "<table class=\"dataframe\">\n",
       "<caption>A tibble: 7 × 4</caption>\n",
       "<thead>\n",
       "\t<tr><th scope=col>quality</th><th scope=col>mean.vol</th><th scope=col>mean.chlor</th><th scope=col>mean.sulf</th></tr>\n",
       "\t<tr><th scope=col>&lt;fct&gt;</th><th scope=col>&lt;dbl&gt;</th><th scope=col>&lt;dbl&gt;</th><th scope=col>&lt;dbl&gt;</th></tr>\n",
       "</thead>\n",
       "<tbody>\n",
       "\t<tr><td>3</td><td>0.3396429</td><td>0.05921429</td><td>149.8929</td></tr>\n",
       "\t<tr><td>4</td><td>0.3919531</td><td>0.05100000</td><td>123.5430</td></tr>\n",
       "\t<tr><td>5</td><td>0.3035380</td><td>0.05157745</td><td>152.1916</td></tr>\n",
       "\t<tr><td>6</td><td>0.2603785</td><td>0.04498168</td><td>136.4670</td></tr>\n",
       "\t<tr><td>7</td><td>0.2631791</td><td>0.03832777</td><td>124.5584</td></tr>\n",
       "\t<tr><td>8</td><td>0.2823864</td><td>0.03908333</td><td>129.3598</td></tr>\n",
       "\t<tr><td>9</td><td>0.3075000</td><td>0.02625000</td><td>116.7500</td></tr>\n",
       "</tbody>\n",
       "</table>\n"
      ],
      "text/latex": [
       "A tibble: 7 × 4\n",
       "\\begin{tabular}{llll}\n",
       " quality & mean.vol & mean.chlor & mean.sulf\\\\\n",
       " <fct> & <dbl> & <dbl> & <dbl>\\\\\n",
       "\\hline\n",
       "\t 3 & 0.3396429 & 0.05921429 & 149.8929\\\\\n",
       "\t 4 & 0.3919531 & 0.05100000 & 123.5430\\\\\n",
       "\t 5 & 0.3035380 & 0.05157745 & 152.1916\\\\\n",
       "\t 6 & 0.2603785 & 0.04498168 & 136.4670\\\\\n",
       "\t 7 & 0.2631791 & 0.03832777 & 124.5584\\\\\n",
       "\t 8 & 0.2823864 & 0.03908333 & 129.3598\\\\\n",
       "\t 9 & 0.3075000 & 0.02625000 & 116.7500\\\\\n",
       "\\end{tabular}\n"
      ],
      "text/markdown": [
       "\n",
       "A tibble: 7 × 4\n",
       "\n",
       "| quality &lt;fct&gt; | mean.vol &lt;dbl&gt; | mean.chlor &lt;dbl&gt; | mean.sulf &lt;dbl&gt; |\n",
       "|---|---|---|---|\n",
       "| 3 | 0.3396429 | 0.05921429 | 149.8929 |\n",
       "| 4 | 0.3919531 | 0.05100000 | 123.5430 |\n",
       "| 5 | 0.3035380 | 0.05157745 | 152.1916 |\n",
       "| 6 | 0.2603785 | 0.04498168 | 136.4670 |\n",
       "| 7 | 0.2631791 | 0.03832777 | 124.5584 |\n",
       "| 8 | 0.2823864 | 0.03908333 | 129.3598 |\n",
       "| 9 | 0.3075000 | 0.02625000 | 116.7500 |\n",
       "\n"
      ],
      "text/plain": [
       "  quality mean.vol  mean.chlor mean.sulf\n",
       "1 3       0.3396429 0.05921429 149.8929 \n",
       "2 4       0.3919531 0.05100000 123.5430 \n",
       "3 5       0.3035380 0.05157745 152.1916 \n",
       "4 6       0.2603785 0.04498168 136.4670 \n",
       "5 7       0.2631791 0.03832777 124.5584 \n",
       "6 8       0.2823864 0.03908333 129.3598 \n",
       "7 9       0.3075000 0.02625000 116.7500 "
      ]
     },
     "metadata": {},
     "output_type": "display_data"
    }
   ],
   "source": [
    "wine_table <- wine_train|>\n",
    "    group_by(quality)|>           \n",
    "    summarize(mean.vol = mean(volatile.acidity), mean.chlor = mean(chlorides), \n",
    "              mean.sulf = mean(total.sulfur.dioxide))\n",
    "\n",
    "wine_table"
   ]
  },
  {
   "cell_type": "code",
   "execution_count": 6,
   "id": "8d288e2e-a686-44ac-9484-1038777f75ec",
   "metadata": {},
   "outputs": [],
   "source": [
    "#vfold"
   ]
  },
  {
   "cell_type": "code",
   "execution_count": 7,
   "id": "965b48ec-02c7-4117-a568-619d441cb256",
   "metadata": {},
   "outputs": [],
   "source": [
    "wine_vfold <- vfold_cv(wine_train, v = 5, strata = quality)"
   ]
  },
  {
   "cell_type": "code",
   "execution_count": 8,
   "id": "a7391cb8-8359-427c-9050-c5cf55ef56b4",
   "metadata": {},
   "outputs": [],
   "source": [
    "#recipe"
   ]
  },
  {
   "cell_type": "code",
   "execution_count": 9,
   "id": "6b3dc11c-f716-4a94-98e3-17cce8299ac6",
   "metadata": {},
   "outputs": [],
   "source": [
    "wine_recipe <- recipe(quality ~ volatile.acidity + chlorides + total.sulfur.dioxide , data = wine_train) |>\n",
    "    step_scale(all_predictors()) |>\n",
    "    step_center(all_predictors())"
   ]
  },
  {
   "cell_type": "code",
   "execution_count": 10,
   "id": "ccb2348a-c1fa-48ef-a884-69e62fb6529e",
   "metadata": {},
   "outputs": [],
   "source": [
    "#k-nearest neighbor"
   ]
  },
  {
   "cell_type": "code",
   "execution_count": 11,
   "id": "69a0b640-b1d2-41a5-af1c-896f1bdc40aa",
   "metadata": {},
   "outputs": [
    {
     "name": "stderr",
     "output_type": "stream",
     "text": [
      "\u001b[33m!\u001b[39m \u001b[33mFold2: internal:\n",
      "  No observations were detected in `truth` for level(s): '9'\n",
      "  Computation will proceed by ignoring those levels.\u001b[39m\n",
      "\n",
      "\u001b[33m!\u001b[39m \u001b[33mFold5: internal:\n",
      "  No observations were detected in `truth` for level(s): '9'\n",
      "  Computation will proceed by ignoring those levels.\u001b[39m\n",
      "\n"
     ]
    }
   ],
   "source": [
    "set.seed(2020)\n",
    "\n",
    "knn_spec <- nearest_neighbor(weight_func = \"rectangular\", neighbors = tune()) |>\n",
    "       set_engine(\"kknn\") |>\n",
    "       set_mode(\"classification\")\n",
    "\n",
    "wine_fit <- workflow() |>\n",
    "       add_recipe(wine_recipe) |>\n",
    "       add_model(knn_spec) |>\n",
    "       tune_grid(resamples = wine_vfold, grid = 10) |>\n",
    "       collect_metrics()"
   ]
  },
  {
   "cell_type": "code",
   "execution_count": 12,
   "id": "6e2f04d9-80c0-4db8-a041-52c56797d51c",
   "metadata": {},
   "outputs": [
    {
     "data": {
      "image/png": "[encoded data removed]",
      "text/plain": [
       "plot without title"
      ]
     },
     "metadata": {
      "image/png": {
       "height": 420,
       "width": 420
      }
     },
     "output_type": "display_data"
    }
   ],
   "source": [
    "accuracies <- wine_fit |>\n",
    "              filter(.metric == \"accuracy\")\n",
    "\n",
    "accuracy_versus_k <- ggplot(accuracies, aes(x = neighbors, y = mean)) +\n",
    "                     geom_point() +\n",
    "                     geom_line() +\n",
    "                     labs(x = \"Neighbors\", y = \"Accuracy Estimate\") +\n",
    "                     theme(text = element_text(size = 20)) +\n",
    "                     scale_x_continuous(breaks = seq(0, 14, by = 1)) +\n",
    "                     scale_y_continuous(limits = c(0.4, 1.0))\n",
    "accuracy_versus_k"
   ]
  },
  {
   "cell_type": "code",
   "execution_count": 13,
   "id": "0c784610-50da-4d92-8d80-114914f03d34",
   "metadata": {},
   "outputs": [],
   "source": [
    "#choose k value"
   ]
  },
  {
   "cell_type": "code",
   "execution_count": 14,
   "id": "6b707119-c9ba-4d8f-be2d-42ab6459fd49",
   "metadata": {},
   "outputs": [
    {
     "data": {
      "text/plain": [
       "══ Workflow [trained] ══════════════════════════════════════════════════════════\n",
       "\u001b[3mPreprocessor:\u001b[23m Recipe\n",
       "\u001b[3mModel:\u001b[23m nearest_neighbor()\n",
       "\n",
       "── Preprocessor ────────────────────────────────────────────────────────────────\n",
       "2 Recipe Steps\n",
       "\n",
       "• step_scale()\n",
       "• step_center()\n",
       "\n",
       "── Model ───────────────────────────────────────────────────────────────────────\n",
       "\n",
       "Call:\n",
       "kknn::train.kknn(formula = ..y ~ ., data = data, ks = min_rows(2,     data, 5), kernel = ~\"rectangular\")\n",
       "\n",
       "Type of response variable: nominal\n",
       "Minimal misclassification: 0.5030005\n",
       "Best kernel: rectangular\n",
       "Best k: 2"
      ]
     },
     "metadata": {},
     "output_type": "display_data"
    }
   ],
   "source": [
    "set.seed(9999) \n",
    "\n",
    "wine_spec <- nearest_neighbor(weight_func = \"rectangular\", neighbors = 2) |>\n",
    "       set_engine(\"kknn\") |>\n",
    "       set_mode(\"classification\")\n",
    "\n",
    "wine_fit <- workflow() |>\n",
    "             add_recipe(wine_recipe) |>\n",
    "             add_model(wine_spec) |>\n",
    "            fit(data = wine_train)\n",
    "wine_fit"
   ]
  },
  {
   "cell_type": "code",
   "execution_count": 15,
   "id": "113e62d9-2a47-43c4-81a5-d91baf2249b6",
   "metadata": {},
   "outputs": [
    {
     "data": {
      "text/html": [
       "<table class=\"dataframe\">\n",
       "<caption>A tibble: 2 × 3</caption>\n",
       "<thead>\n",
       "\t<tr><th scope=col>.metric</th><th scope=col>.estimator</th><th scope=col>.estimate</th></tr>\n",
       "\t<tr><th scope=col>&lt;chr&gt;</th><th scope=col>&lt;chr&gt;</th><th scope=col>&lt;dbl&gt;</th></tr>\n",
       "</thead>\n",
       "<tbody>\n",
       "\t<tr><td>accuracy</td><td>multiclass</td><td>0.5519215</td></tr>\n",
       "\t<tr><td>kap     </td><td>multiclass</td><td>0.3276883</td></tr>\n",
       "</tbody>\n",
       "</table>\n"
      ],
      "text/latex": [
       "A tibble: 2 × 3\n",
       "\\begin{tabular}{lll}\n",
       " .metric & .estimator & .estimate\\\\\n",
       " <chr> & <chr> & <dbl>\\\\\n",
       "\\hline\n",
       "\t accuracy & multiclass & 0.5519215\\\\\n",
       "\t kap      & multiclass & 0.3276883\\\\\n",
       "\\end{tabular}\n"
      ],
      "text/markdown": [
       "\n",
       "A tibble: 2 × 3\n",
       "\n",
       "| .metric &lt;chr&gt; | .estimator &lt;chr&gt; | .estimate &lt;dbl&gt; |\n",
       "|---|---|---|\n",
       "| accuracy | multiclass | 0.5519215 |\n",
       "| kap      | multiclass | 0.3276883 |\n",
       "\n"
      ],
      "text/plain": [
       "  .metric  .estimator .estimate\n",
       "1 accuracy multiclass 0.5519215\n",
       "2 kap      multiclass 0.3276883"
      ]
     },
     "metadata": {},
     "output_type": "display_data"
    },
    {
     "data": {
      "text/plain": [
       "          Truth\n",
       "Prediction   3   4   5   6   7   8   9\n",
       "         3   1   1   1   1   0   0   0\n",
       "         4   1   6  10   9   4   1   0\n",
       "         5   1   8 204 125  30   5   0\n",
       "         6   3  16 114 340  72  18   0\n",
       "         7   0   3  30  68 110   5   1\n",
       "         8   0   0   5  12   3  14   0\n",
       "         9   0   0   0   1   0   0   0"
      ]
     },
     "metadata": {},
     "output_type": "display_data"
    }
   ],
   "source": [
    "set.seed(9999) \n",
    "\n",
    "\n",
    "wine_predictions <- predict(wine_fit, wine_test) |>\n",
    "                        bind_cols(wine_test)\n",
    "\n",
    "wine_metrics <- wine_predictions |> metrics(truth = quality, estimate = .pred_class)\n",
    "wine_conf_mat <- wine_predictions |>\n",
    "                        conf_mat(truth = quality, estimate = .pred_class) \n",
    "wine_metrics\n",
    "wine_conf_mat"
   ]
  },
  {
   "cell_type": "code",
   "execution_count": null,
   "id": "c00a163a-7c1a-49b5-9ef5-37bd95c7f7b1",
   "metadata": {},
   "outputs": [],
   "source": []
  },
  {
   "cell_type": "code",
   "execution_count": null,
   "id": "ea10a9bb-8b11-4186-9305-839b87c2aefe",
   "metadata": {},
   "outputs": [],
   "source": []
  },
  {
   "cell_type": "code",
   "execution_count": null,
   "id": "c131281c-b03b-4374-900e-5d58e0bdbdce",
   "metadata": {},
   "outputs": [],
   "source": []
  }
 ],
 "metadata": {
  "kernelspec": {
   "display_name": "R",
   "language": "R",
   "name": "ir"
  },
  "language_info": {
   "codemirror_mode": "r",
   "file_extension": ".r",
   "mimetype": "text/x-r-source",
   "name": "R",
   "pygments_lexer": "r",
   "version": "4.1.3"
  }
 },
 "nbformat": 4,
 "nbformat_minor": 5
}
