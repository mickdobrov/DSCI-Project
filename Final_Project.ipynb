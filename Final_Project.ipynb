{
 "cells": [
  {
   "cell_type": "code",
   "execution_count": 1,
   "id": "61bdbf23-f498-4a6e-b14f-1e47d9df1de7",
   "metadata": {},
   "outputs": [
    {
     "name": "stderr",
     "output_type": "stream",
     "text": [
      "── \u001b[1mAttaching packages\u001b[22m ─────────────────────────────────────── tidyverse 1.3.1 ──\n",
      "\n",
      "\u001b[32m✔\u001b[39m \u001b[34mggplot2\u001b[39m 3.3.6     \u001b[32m✔\u001b[39m \u001b[34mpurrr  \u001b[39m 0.3.4\n",
      "\u001b[32m✔\u001b[39m \u001b[34mtibble \u001b[39m 3.1.7     \u001b[32m✔\u001b[39m \u001b[34mdplyr  \u001b[39m 1.0.9\n",
      "\u001b[32m✔\u001b[39m \u001b[34mtidyr  \u001b[39m 1.2.0     \u001b[32m✔\u001b[39m \u001b[34mstringr\u001b[39m 1.4.0\n",
      "\u001b[32m✔\u001b[39m \u001b[34mreadr  \u001b[39m 2.1.2     \u001b[32m✔\u001b[39m \u001b[34mforcats\u001b[39m 0.5.1\n",
      "\n",
      "── \u001b[1mConflicts\u001b[22m ────────────────────────────────────────── tidyverse_conflicts() ──\n",
      "\u001b[31m✖\u001b[39m \u001b[34mdplyr\u001b[39m::\u001b[32mfilter()\u001b[39m masks \u001b[34mstats\u001b[39m::filter()\n",
      "\u001b[31m✖\u001b[39m \u001b[34mdplyr\u001b[39m::\u001b[32mlag()\u001b[39m    masks \u001b[34mstats\u001b[39m::lag()\n",
      "\n",
      "── \u001b[1mAttaching packages\u001b[22m ────────────────────────────────────── tidymodels 1.0.0 ──\n",
      "\n",
      "\u001b[32m✔\u001b[39m \u001b[34mbroom       \u001b[39m 1.0.0     \u001b[32m✔\u001b[39m \u001b[34mrsample     \u001b[39m 1.0.0\n",
      "\u001b[32m✔\u001b[39m \u001b[34mdials       \u001b[39m 1.0.0     \u001b[32m✔\u001b[39m \u001b[34mtune        \u001b[39m 1.0.0\n",
      "\u001b[32m✔\u001b[39m \u001b[34minfer       \u001b[39m 1.0.2     \u001b[32m✔\u001b[39m \u001b[34mworkflows   \u001b[39m 1.0.0\n",
      "\u001b[32m✔\u001b[39m \u001b[34mmodeldata   \u001b[39m 1.0.0     \u001b[32m✔\u001b[39m \u001b[34mworkflowsets\u001b[39m 1.0.0\n",
      "\u001b[32m✔\u001b[39m \u001b[34mparsnip     \u001b[39m 1.0.0     \u001b[32m✔\u001b[39m \u001b[34myardstick   \u001b[39m 1.0.0\n",
      "\u001b[32m✔\u001b[39m \u001b[34mrecipes     \u001b[39m 1.0.1     \n",
      "\n",
      "── \u001b[1mConflicts\u001b[22m ───────────────────────────────────────── tidymodels_conflicts() ──\n",
      "\u001b[31m✖\u001b[39m \u001b[34mscales\u001b[39m::\u001b[32mdiscard()\u001b[39m masks \u001b[34mpurrr\u001b[39m::discard()\n",
      "\u001b[31m✖\u001b[39m \u001b[34mdplyr\u001b[39m::\u001b[32mfilter()\u001b[39m   masks \u001b[34mstats\u001b[39m::filter()\n",
      "\u001b[31m✖\u001b[39m \u001b[34mrecipes\u001b[39m::\u001b[32mfixed()\u001b[39m  masks \u001b[34mstringr\u001b[39m::fixed()\n",
      "\u001b[31m✖\u001b[39m \u001b[34mdplyr\u001b[39m::\u001b[32mlag()\u001b[39m      masks \u001b[34mstats\u001b[39m::lag()\n",
      "\u001b[31m✖\u001b[39m \u001b[34myardstick\u001b[39m::\u001b[32mspec()\u001b[39m masks \u001b[34mreadr\u001b[39m::spec()\n",
      "\u001b[31m✖\u001b[39m \u001b[34mrecipes\u001b[39m::\u001b[32mstep()\u001b[39m   masks \u001b[34mstats\u001b[39m::step()\n",
      "\u001b[34m•\u001b[39m Use suppressPackageStartupMessages() to eliminate package startup messages\n",
      "\n"
     ]
    }
   ],
   "source": [
    "library(tidyverse)\n",
    "library(repr)\n",
    "library(tidymodels)\n",
    "library(dplyr)"
   ]
  },
  {
   "cell_type": "code",
   "execution_count": 2,
   "id": "938d4467-d0d6-4969-b09d-a8cdd152b45b",
   "metadata": {},
   "outputs": [],
   "source": [
    "wine_quality <- read_csv(file = \"/home/jovyan/dsci-project/DSCI-Project/winequalityN.csv\", show_col_types = FALSE)\n",
    "\n",
    "names(wine_quality) <- make.names(colnames(wine_quality))\n",
    "\n",
    "white_quality <- filter(wine_quality, type == \"white\") |>\n",
    "                select(volatile.acidity, chlorides, total.sulfur.dioxide, quality) |>\n",
    "                na.omit(volatile.acidity, chlorides, total.sulfur.dioxide, quality)\n",
    "white_quality$volatile.acidity <- as.numeric(white_quality$volatile.acidity)\n",
    "white_quality$chlorides<-as.numeric(white_quality$chlorides)\n",
    "white_quality$total.sulfur.dioxide<-as.numeric(white_quality$total.sulfur.dioxide)\n",
    "white_quality$quality<-as.numeric(white_quality$quality)"
   ]
  },
  {
   "cell_type": "code",
   "execution_count": 3,
   "id": "7b437e25-c192-40d7-82cb-997880abc68b",
   "metadata": {},
   "outputs": [],
   "source": [
    "set.seed(135)\n",
    "wine_split <- initial_split(white_quality, prop = 0.75, strata = quality)\n",
    "wine_train <- training (wine_split)\n",
    "wine_test <- testing(wine_split)"
   ]
  },
  {
   "cell_type": "code",
   "execution_count": 4,
   "id": "c21bf11f-9641-4c9b-a4df-4d083d3597b3",
   "metadata": {},
   "outputs": [],
   "source": [
    "#summarize with training data"
   ]
  },
  {
   "cell_type": "code",
   "execution_count": 5,
   "id": "0e846300-bbb3-494c-a6fb-473951afcce3",
   "metadata": {},
   "outputs": [
    {
     "data": {
      "text/html": [
       "<table class=\"dataframe\">\n",
       "<caption>A tibble: 7 × 4</caption>\n",
       "<thead>\n",
       "\t<tr><th scope=col>quality</th><th scope=col>mean.vol</th><th scope=col>mean.chlor</th><th scope=col>mean.sulf</th></tr>\n",
       "\t<tr><th scope=col>&lt;dbl&gt;</th><th scope=col>&lt;dbl&gt;</th><th scope=col>&lt;dbl&gt;</th><th scope=col>&lt;dbl&gt;</th></tr>\n",
       "</thead>\n",
       "<tbody>\n",
       "\t<tr><td>3</td><td>0.3291176</td><td>0.05535294</td><td>169.2059</td></tr>\n",
       "\t<tr><td>4</td><td>0.4001250</td><td>0.05068333</td><td>126.7625</td></tr>\n",
       "\t<tr><td>5</td><td>0.3007202</td><td>0.05107064</td><td>150.3908</td></tr>\n",
       "\t<tr><td>6</td><td>0.2615350</td><td>0.04503830</td><td>137.3249</td></tr>\n",
       "\t<tr><td>7</td><td>0.2590364</td><td>0.03859939</td><td>125.1563</td></tr>\n",
       "\t<tr><td>8</td><td>0.2809470</td><td>0.03792424</td><td>123.8409</td></tr>\n",
       "\t<tr><td>9</td><td>0.3150000</td><td>0.02800000</td><td>104.5000</td></tr>\n",
       "</tbody>\n",
       "</table>\n"
      ],
      "text/latex": [
       "A tibble: 7 × 4\n",
       "\\begin{tabular}{llll}\n",
       " quality & mean.vol & mean.chlor & mean.sulf\\\\\n",
       " <dbl> & <dbl> & <dbl> & <dbl>\\\\\n",
       "\\hline\n",
       "\t 3 & 0.3291176 & 0.05535294 & 169.2059\\\\\n",
       "\t 4 & 0.4001250 & 0.05068333 & 126.7625\\\\\n",
       "\t 5 & 0.3007202 & 0.05107064 & 150.3908\\\\\n",
       "\t 6 & 0.2615350 & 0.04503830 & 137.3249\\\\\n",
       "\t 7 & 0.2590364 & 0.03859939 & 125.1563\\\\\n",
       "\t 8 & 0.2809470 & 0.03792424 & 123.8409\\\\\n",
       "\t 9 & 0.3150000 & 0.02800000 & 104.5000\\\\\n",
       "\\end{tabular}\n"
      ],
      "text/markdown": [
       "\n",
       "A tibble: 7 × 4\n",
       "\n",
       "| quality &lt;dbl&gt; | mean.vol &lt;dbl&gt; | mean.chlor &lt;dbl&gt; | mean.sulf &lt;dbl&gt; |\n",
       "|---|---|---|---|\n",
       "| 3 | 0.3291176 | 0.05535294 | 169.2059 |\n",
       "| 4 | 0.4001250 | 0.05068333 | 126.7625 |\n",
       "| 5 | 0.3007202 | 0.05107064 | 150.3908 |\n",
       "| 6 | 0.2615350 | 0.04503830 | 137.3249 |\n",
       "| 7 | 0.2590364 | 0.03859939 | 125.1563 |\n",
       "| 8 | 0.2809470 | 0.03792424 | 123.8409 |\n",
       "| 9 | 0.3150000 | 0.02800000 | 104.5000 |\n",
       "\n"
      ],
      "text/plain": [
       "  quality mean.vol  mean.chlor mean.sulf\n",
       "1 3       0.3291176 0.05535294 169.2059 \n",
       "2 4       0.4001250 0.05068333 126.7625 \n",
       "3 5       0.3007202 0.05107064 150.3908 \n",
       "4 6       0.2615350 0.04503830 137.3249 \n",
       "5 7       0.2590364 0.03859939 125.1563 \n",
       "6 8       0.2809470 0.03792424 123.8409 \n",
       "7 9       0.3150000 0.02800000 104.5000 "
      ]
     },
     "metadata": {},
     "output_type": "display_data"
    }
   ],
   "source": [
    "wine_table <- wine_train|>\n",
    "    group_by(quality)|>           \n",
    "    summarize(mean.vol = mean(volatile.acidity), mean.chlor = mean(chlorides), \n",
    "              mean.sulf = mean(total.sulfur.dioxide))\n",
    "\n",
    "wine_table"
   ]
  },
  {
   "cell_type": "code",
   "execution_count": null,
   "id": "e7e4b44f-c493-4eb0-8916-5d41387b1782",
   "metadata": {},
   "outputs": [],
   "source": [
    "#plot with training data"
   ]
  }
 ],
 "metadata": {
  "kernelspec": {
   "display_name": "R",
   "language": "R",
   "name": "ir"
  },
  "language_info": {
   "codemirror_mode": "r",
   "file_extension": ".r",
   "mimetype": "text/x-r-source",
   "name": "R",
   "pygments_lexer": "r",
   "version": "4.1.3"
  }
 },
 "nbformat": 4,
 "nbformat_minor": 5
}
