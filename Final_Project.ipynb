{
 "cells": [
  {
   "cell_type": "markdown",
   "id": "a41b71c9-e30f-4dca-b6e5-a1766eb159b5",
   "metadata": {},
   "source": [
    "<font size=\"5\">Introduction</font>"
   ]
  },
  {
   "cell_type": "markdown",
   "id": "d292ccdf-62ad-4e8b-9fdd-d4df76ff92c2",
   "metadata": {},
   "source": [
    "Wine type is very important to many people, connoisseurs and distributors alike. The type of a wine can be a factor in determining many different things, including its value and intended purpose (when it is used). There are a multitude of factors in a wine that can contribute to its overall categorization, however we will be exploring if a wine is a red or a white based on specific qualities."
   ]
  },
  {
   "cell_type": "markdown",
   "id": "c741875e-6bee-4c26-a7d2-f0a2e87414c3",
   "metadata": {},
   "source": [
    "Thus, this project will analyze contributors and develop a system adept to determining the type of a batch of wine (red or white). We aim to predict the type of wine using a classification model based on the three factors we determined to be the most important: Volatile Acidity, Chlorides, and Total Sulfur Dioxide."
   ]
  },
  {
   "cell_type": "markdown",
   "id": "4a43f9fc-a17b-49bc-b130-d9ca30a711fe",
   "metadata": {},
   "source": [
    "The dataset, with 6497 rows and 13 columns, is obtained from the UCI Machine Learning Repository. It can be found at https://www.kaggle.com/datasets/rajyellow46/wine-quality, and displays a number of measurable factors of wines including but not limited to those mentioned above - as well as the type of wine (red or white). Not all wine types are presented equally. It was collected in 2009 and combines two data sets. A total of 11 measured factors of wine are present, some represented in a scale of integers and others on a continuous scale. We have researched and selected the three above factors to predict wine type as not all factors are of equal importance."
   ]
  },
  {
   "cell_type": "code",
   "execution_count": null,
   "id": "61bdbf23-f498-4a6e-b14f-1e47d9df1de7",
   "metadata": {},
   "outputs": [],
   "source": [
    "install.packages(\"kknn\")\n",
    "library(tidyverse)\n",
    "library(repr)\n",
    "library(tidymodels)\n",
    "library(dplyr)\n",
    "library(ggplot2)\n",
    "library(patchwork)"
   ]
  },
  {
   "cell_type": "code",
   "execution_count": null,
   "id": "938d4467-d0d6-4969-b09d-a8cdd152b45b",
   "metadata": {},
   "outputs": [],
   "source": [
    "wine_type <- read_csv(\"https://raw.githubusercontent.com/mickdobrov/DSCI-Project/main/winequalityraw.csv\")\n",
    "names(wine_type) <- make.names(colnames(wine_type))\n",
    "\n",
    "w_type <-wine_type|>\n",
    "                select(volatile.acidity, chlorides, total.sulfur.dioxide, type) |>\n",
    "                na.omit(volatile.acidity, chlorides, total.sulfur.dioxide, type)\n",
    "w_type$volatile.acidity <- as.numeric(w_type$volatile.acidity)\n",
    "w_type$chlorides<-as.numeric(w_type$chlorides)\n",
    "w_type$total.sulfur.dioxide<-as.numeric(w_type$total.sulfur.dioxide)\n",
    "w_type$type<-as.factor(w_type$type)"
   ]
  },
  {
   "cell_type": "markdown",
   "id": "03af8bf1-606a-449d-9685-5b92d9ea4b5e",
   "metadata": {},
   "source": [
    "<font size=\"4\">Testing and Training Sets:</font>\n",
    "Dividing the data from the wine dataset allows for creation of a more accurate model, we split this set into a training set of 75% of the data and a testing set of 25% of the data."
   ]
  },
  {
   "cell_type": "code",
   "execution_count": null,
   "id": "7b437e25-c192-40d7-82cb-997880abc68b",
   "metadata": {},
   "outputs": [],
   "source": [
    "set.seed(135)\n",
    "wine_split <- initial_split(w_type, prop = 0.75, strata = type)\n",
    "wine_train <- training (wine_split)\n",
    "wine_test <- testing(wine_split)"
   ]
  },
  {
   "cell_type": "code",
   "execution_count": null,
   "id": "c21bf11f-9641-4c9b-a4df-4d083d3597b3",
   "metadata": {},
   "outputs": [],
   "source": [
    "#summarize with training data"
   ]
  },
  {
   "cell_type": "markdown",
   "id": "a9ff9176-3436-4684-9f3c-83db6c575313",
   "metadata": {},
   "source": [
    "We then took the training data set, known as wine_train, and summarized it by finding the mean values for each wine type for the predictors we chose to focus on: volatile acidity, chlorides, and total sulfur dioxides. These means were tabulated with their corresponding wine type to try to understand the relationship of the data."
   ]
  },
  {
   "cell_type": "code",
   "execution_count": null,
   "id": "0e846300-bbb3-494c-a6fb-473951afcce3",
   "metadata": {},
   "outputs": [],
   "source": [
    "wine_table <- wine_train|>\n",
    "    group_by(type)|>           \n",
    "    summarize(mean.vol = mean(volatile.acidity), mean.chlor = mean(chlorides), \n",
    "              mean.sulf = mean(total.sulfur.dioxide))\n",
    "\n",
    "wine_table"
   ]
  },
  {
   "cell_type": "markdown",
   "id": "2bd894e2-e198-4391-9df1-322e7f388161",
   "metadata": {},
   "source": [
    "The means were next graphed in bar charts to visualize the data spread and how predictive the factors could be and contribute to our analysis.\n"
   ]
  },
  {
   "cell_type": "code",
   "execution_count": null,
   "id": "6001e40c-4a84-4dcd-9768-cb39210895bc",
   "metadata": {},
   "outputs": [],
   "source": [
    "\n",
    "options(repr.plot.height = 4, repr.plot.width = 15)\n",
    "plot_wine_vol <- wine_table |>\n",
    "                    ggplot(aes(x= type, y=mean.vol))+\n",
    "                           geom_bar(stat = \"identity\") +\n",
    "                           labs(x = \"Type of wine (Red vs. White)\", y =  \"Mean Volatile Acidity\", \n",
    "                                title = \"Mean Volatile Acidty Against Type of Wine\")+\n",
    "                                theme(text = element_text(size = 10))\n",
    "                        \n",
    "\n",
    "plot_wine_chlor <- wine_table |>\n",
    "                    ggplot(aes(x= type, y=mean.chlor))+\n",
    "                           geom_bar(stat = \"identity\") +\n",
    "                           labs(x = \"Type of wine (Red vs. White)\", y = \"Mean Chloride Level\", \n",
    "                                title = \"Mean Chloride Levels Against Type of Wine\")+\n",
    "                                theme(text = element_text(size = 10))\n",
    "plot_wine_sulf <- wine_table |>\n",
    "                    ggplot(aes(x= type, y=mean.sulf))+\n",
    "                           geom_bar(stat = \"identity\") +\n",
    "                           labs(x = \"Type of wine (Red vs. White)\", y = \"Mean Total Sulfur Dioxides\", \n",
    "                                title = \"Total Sulfur Dioxide Against Type of Wine\")+\n",
    "                                theme(text = element_text(size = 10))\n",
    "                            \n",
    "plot_wine_vol+plot_wine_chlor+plot_wine_sulf"
   ]
  },
  {
   "cell_type": "code",
   "execution_count": null,
   "id": "8d288e2e-a686-44ac-9484-1038777f75ec",
   "metadata": {},
   "outputs": [],
   "source": [
    "#vfold"
   ]
  },
  {
   "cell_type": "markdown",
   "id": "7f3f3d60-5b41-4240-bc7c-9b86c4b18f14",
   "metadata": {},
   "source": [
    "<font size=\"4\">Vfold:</font> the v-fold validation is good for assessing the ability of the model to predict on new data, it does this by creating multiple sets of training and validation data that are run through the model. We did this for our data to help ensure our model was performing accurately and not displaying any results based on the “luck” of the data set it was presented.\n"
   ]
  },
  {
   "cell_type": "code",
   "execution_count": null,
   "id": "965b48ec-02c7-4117-a568-619d441cb256",
   "metadata": {},
   "outputs": [],
   "source": [
    "wine_vfold <- vfold_cv(wine_train, v = 5, strata = type)"
   ]
  },
  {
   "cell_type": "code",
   "execution_count": null,
   "id": "a7391cb8-8359-427c-9050-c5cf55ef56b4",
   "metadata": {},
   "outputs": [],
   "source": [
    "#recipe"
   ]
  },
  {
   "cell_type": "markdown",
   "id": "4a0206dc-cda5-449d-8e34-cecdaac32da7",
   "metadata": {},
   "source": [
    "<font size=\"4\">Recipe:</font> We import the package and establish the recipe in order to prepare the data to be analyzed. In order to create the recipe we must use the training dataset that we prepared, or else we will encounter issues later on during our analysis."
   ]
  },
  {
   "cell_type": "markdown",
   "id": "39a54085-9512-42b0-9862-d4252ef361e1",
   "metadata": {},
   "source": [
    "wine_recipe <- recipe(type ~ volatile.acidity + chlorides + total.sulfur.dioxide , data = wine_train) |>\n",
    "    step_scale(all_predictors()) |>\n",
    "    step_center(all_predictors())"
   ]
  },
  {
   "cell_type": "code",
   "execution_count": null,
   "id": "ccb2348a-c1fa-48ef-a884-69e62fb6529e",
   "metadata": {},
   "outputs": [],
   "source": [
    "#k-nearest neighbor"
   ]
  },
  {
   "cell_type": "markdown",
   "id": "f730c6d6-7294-41b7-9479-e47a20cadf26",
   "metadata": {},
   "source": [
    "<font size=\"4\">K-nearest neighbor:</font> \n",
    "K-nearest neighbors is the scale of the predictors. We only use the training data which is wine_train to determine K value. This will ensure that our testing data will not affect the model we build so we can properly examine how the model works on it as a test after it is built.\n"
   ]
  },
  {
   "cell_type": "code",
   "execution_count": null,
   "id": "69a0b640-b1d2-41a5-af1c-896f1bdc40aa",
   "metadata": {},
   "outputs": [],
   "source": [
    "set.seed(2020)\n",
    "\n",
    "knn_spec <- nearest_neighbor(weight_func = \"rectangular\", neighbors = tune()) |>\n",
    "       set_engine(\"kknn\") |>\n",
    "       set_mode(\"classification\")"
   ]
  },
  {
   "cell_type": "code",
   "execution_count": null,
   "id": "7cdadab2-1bea-42a9-b693-ed5c6f7362f7",
   "metadata": {},
   "outputs": [],
   "source": [
    "wine_fit <- workflow() |>\n",
    "       add_recipe(wine_recipe) |>\n",
    "       add_model(knn_spec) |>\n",
    "       tune_grid(resamples = wine_vfold, grid = 10) |>\n",
    "       collect_metrics()"
   ]
  },
  {
   "cell_type": "code",
   "execution_count": null,
   "id": "6e2f04d9-80c0-4db8-a041-52c56797d51c",
   "metadata": {},
   "outputs": [],
   "source": [
    "accuracies <- wine_fit |>\n",
    "              filter(.metric == \"accuracy\")\n",
    "\n",
    "accuracy_versus_k <- ggplot(accuracies, aes(x = neighbors, y = mean)) +\n",
    "                     geom_point() +\n",
    "                     geom_line() +\n",
    "                     labs(x = \"Neighbors\", y = \"Accuracy Estimate\") +\n",
    "                     theme(text = element_text(size = 20)) +\n",
    "                     scale_x_continuous(breaks = seq(0, 14, by = 1)) +\n",
    "                     scale_y_continuous(limits = c(0.4, 1.0))\n",
    "accuracy_versus_k"
   ]
  },
  {
   "cell_type": "code",
   "execution_count": null,
   "id": "0c784610-50da-4d92-8d80-114914f03d34",
   "metadata": {},
   "outputs": [],
   "source": [
    "#choose k value"
   ]
  },
  {
   "cell_type": "markdown",
   "id": "5bea6c07-1c6e-4fe0-98fc-14a9a8e1ebec",
   "metadata": {},
   "source": [
    "<font size=\"4\">Building the Model:</font> We then build our model based on the training data. Once its completed, we run the testing data through the model, which gives us our metrics (explained in the predictions section)"
   ]
  },
  {
   "cell_type": "code",
   "execution_count": null,
   "id": "6b707119-c9ba-4d8f-be2d-42ab6459fd49",
   "metadata": {},
   "outputs": [],
   "source": [
    "set.seed(9999) \n",
    "\n",
    "wine_spec <- nearest_neighbor(weight_func = \"rectangular\", neighbors = 2) |>\n",
    "       set_engine(\"kknn\") |>\n",
    "       set_mode(\"classification\")\n",
    "\n",
    "wine_fit <- workflow() |>\n",
    "             add_recipe(wine_recipe) |>\n",
    "             add_model(wine_spec) |>\n",
    "            fit(data = wine_train)\n",
    "wine_fit"
   ]
  },
  {
   "cell_type": "markdown",
   "id": "f1c38bbc-c9ad-4867-a4c3-cbb41d9b0776",
   "metadata": {},
   "source": [
    "<font size=\"4\">Predictions:</font>  We then found the metrics of our model, and examined the results and accuracy of our model based on our models expected outcomes, and the true outcomes. Overall, our model predicted data with extreme accuracy, which will be later explained in the limitations section."
   ]
  },
  {
   "cell_type": "code",
   "execution_count": null,
   "id": "113e62d9-2a47-43c4-81a5-d91baf2249b6",
   "metadata": {},
   "outputs": [],
   "source": [
    "set.seed(9999) \n",
    "\n",
    "wine_predictions <- predict(wine_fit, wine_test) |>\n",
    "                        bind_cols(wine_test)\n",
    "\n",
    "wine_metrics <- wine_predictions |> metrics(truth = type, estimate = .pred_class)\n",
    "wine_conf_mat <- wine_predictions |>\n",
    "                        conf_mat(truth = type, estimate = .pred_class) \n",
    "wine_metrics\n",
    "wine_conf_mat"
   ]
  },
  {
   "cell_type": "code",
   "execution_count": null,
   "id": "c00a163a-7c1a-49b5-9ef5-37bd95c7f7b1",
   "metadata": {},
   "outputs": [],
   "source": [
    "#visualization"
   ]
  },
  {
   "cell_type": "markdown",
   "id": "8dad21e6-0258-4dcb-a110-d92e1027ea2a",
   "metadata": {},
   "source": [
    "<font size = \"4\"> Visualizations: </font> The results of our predictive classification model are displayed in a collection of scatterplots of every combination of our predictive factors overlayed with a line graph of the predicted wine type (red vs. white) from our model. From these graphs it is easy to see that the predicted wine types rarely overlap with an incorrect classification from the actual data.\n"
   ]
  },
  {
   "cell_type": "code",
   "execution_count": null,
   "id": "063fd563-6286-409b-b755-3a6d36418f9e",
   "metadata": {},
   "outputs": [],
   "source": [
    "pred_final <- wine_predictions|>\n",
    "            mutate(predicted.type = .pred_class)"
   ]
  },
  {
   "cell_type": "code",
   "execution_count": null,
   "id": "ea10a9bb-8b11-4186-9305-839b87c2aefe",
   "metadata": {},
   "outputs": [],
   "source": [
    "options(repr.plot.height = 8, repr.plot.width = 20)\n",
    "wine_plot_avc <- wine_test|>\n",
    "                ggplot(aes(x=volatile.acidity, y = chlorides, color = type))+\n",
    "                geom_point()+\n",
    "                geom_smooth(data = pred_final, aes(x = volatile.acidity, y = chlorides, color = predicted.type))+\n",
    "                labs(x = \"Volatile Acidity Levels in Grams per 100 mL\", y = \"Chlorides in mmol/L\", \n",
    "                     title = \"Chlorides Against Volatile Acidity and the Corresponding Predictions of Wine Type\",\n",
    "                    color = \"Wine Type\")+\n",
    "                theme(text = element_text(size = 10))\n",
    "wine_plot_avt <- wine_test|>\n",
    "                ggplot(aes(x=volatile.acidity, y = total.sulfur.dioxide, color = type))+\n",
    "                geom_point()+\n",
    "                geom_smooth(data = pred_final, aes(x = volatile.acidity, y = total.sulfur.dioxide, color = predicted.type))+\n",
    "                labs(x = \"Volatile Acidity Levels in Grams per 100 mL\", y = \"Total Sulfur Dioxide Levels in ppm (parts per million)\", \n",
    "                     title = \"Total Sulfur Dioxide Levels Against Volatile Acidity and the Corresponding Predictions of Wine Type\",\n",
    "                    color = \"Wine Type\")+\n",
    "                theme(text = element_text(size = 9))\n",
    "wine_plot_tvc <- wine_test|>\n",
    "                ggplot(aes(x=total.sulfur.dioxide, y = chlorides, color = type))+\n",
    "                geom_point()+\n",
    "                geom_smooth(data = pred_final, aes(x = total.sulfur.dioxide, y = chlorides, color = predicted.type))+\n",
    "                labs(x = \"Total Sulfur Dioxide Levels in ppm (parts per million)\", y = \"Chlorides in mmol/L\", \n",
    "                     title = \"Total Sulfur Dioxide Levels Against Chlorides and the Corresponding Predictions of Wine Type\",\n",
    "                    color = \"Wine Type\")+\n",
    "                theme(text = element_text(size = 9))\n",
    "wine_plot_avc + wine_plot_avt + wine_plot_tvc"
   ]
  },
  {
   "cell_type": "markdown",
   "id": "aba29a56-d829-4f7b-a1a9-85ab67074a1f",
   "metadata": {},
   "source": [
    "<font size = \"4\"> Limitations of Our Model </font>\n"
   ]
  },
  {
   "cell_type": "markdown",
   "id": "c7ddd848-3139-4bdd-a151-fef79c879adf",
   "metadata": {},
   "source": [
    "Our model had an accuracy level of 97.9 percent, which is unusually high. It is important to note why this is the case in order to understand the limitation of the model that we created. This could be due to a number of different reasons. Firstly, our dataset is limited, in the sense that there are few data points for red wine compared to the number of data for white wine. Secondly, all of the wines in our dataset are from the same vineyard, which could mean that there are differences in the chemical compounds of the grapes and soil (leading to a difference in the composition of the wine, which ultimately could change the factors we use to predict wine type). Thirdly, red wine and white wine might just have some extreme differences when it comes to Volatile Acidity, Chlorides, and Total Sulfur Dioxide – it is possible that the model may be this accurate because there truly is a noticeable difference in the levels of these variables, which makes it easy to predict wine type. This would render the model almost useless in many situations however, with more data, it is possible that a model such as this could help classify wines that are blends of white grape and red grape varieties, as more red than white, or more white than red. "
   ]
  },
  {
   "cell_type": "markdown",
   "id": "c958b1ed-c2ce-4fe0-a1bf-6f11fc9f43fc",
   "metadata": {},
   "source": [
    "<font size = \"4\"> Summary of Findings </font>"
   ]
  },
  {
   "cell_type": "markdown",
   "id": "e7f4b821-5c4e-46a8-bc52-3509d0d4b2fd",
   "metadata": {},
   "source": [
    "Through our model, it is clear that these factors (Volatile Acidity, Chlorides, and Total Sulfur Dioxide) have significant differences in scale if a wine is red vs white. We found that Chlorides and Volatile Acidity are significantly higher in red wines than in white wines. We also found that Total Sulfur Dioxide is higher for white wines than for red wines. Because of this difference, our model was able to predict red wine vs white wine with 97.9% accuracy.\n",
    "This is what we expected to find, as we initially saw a large difference in the capability of these factors. Each one had clear differences between red and white wine, and we expected there to be a clear positive or negative relationship between the type of wine, and each one of these variables. "
   ]
  },
  {
   "cell_type": "markdown",
   "id": "b793894e-c66b-48e3-b5b6-f072c4ced328",
   "metadata": {},
   "source": [
    "<font size = \"4\"> Impacts of Our Findings </font>"
   ]
  },
  {
   "cell_type": "markdown",
   "id": "f13437cc-66ad-4766-8d11-ed1bf7d6c10c",
   "metadata": {},
   "source": [
    "Overall, we created an accurate model which predicts the type of a wine, as either red or white. This model could be used to classify blended wines with an unknown concentration of red grape vs white as a wine more red or more white. As blended wines grow in popularity, this distinction could be important to connoisseur trying to understand their wines and determine their qualities. This classification model could  also be used as a building block on which other programs are built on. For instance, if someone were to build a wine quality prediction model, this program could be linked together with that one in order to help the accuracy of results. Wine quality is judged on factors that differ for each type of wine, and using our classification model would ultimately help increase the accuracy of a new model. These are two examples of the impacts of our findings and their future, however there are many more possibilities to be built on."
   ]
  },
  {
   "cell_type": "markdown",
   "id": "793d9457-217f-476c-9d9c-15c170a04657",
   "metadata": {},
   "source": [
    "<font size = \"4\"> How Could More Analysis Be Done? </font>"
   ]
  },
  {
   "cell_type": "markdown",
   "id": "9773cb38-520f-4739-8489-34e17f5953d9",
   "metadata": {},
   "source": [
    "More analysis could be done with a much larger dataset, with additional types of wines. Currently, our dataset takes wines from a certain vineyard, however taking data from different vineyards would create a more balanced dataset, and would put our model to the test. Also, due to the low number of red wines in our dataset, our model was limited in the prediction estimates of red wine – with a more even dataset, our model would be better trained and more accurate. Also, if we wanted to increase the accuracy or versatility of our model, we could use additional predictors, as this would likely make our model more accurate.\n"
   ]
  },
  {
   "cell_type": "markdown",
   "id": "14b91133-ee9d-4e54-bdef-ee9d3d83570c",
   "metadata": {},
   "source": [
    "<font size = \"4\"> Further Questions These Results Make Us Want to Ask </font>\n",
    "\n",
    "There are a number of things we question following creating this model, we wonder...\n",
    "\n",
    "1. How do other wine types vary in Volatile Acidity, Chlorides, and Total Sulfur Dioxide? \n",
    "\n",
    "2. Can other wines such Rose wines, Sparkling wines, and Dessert wines be classified using these factors?\n",
    "\n",
    "3. How would a larger dataset affect our model? Would it still be as accurate as it currently is?\n"
   ]
  },
  {
   "cell_type": "markdown",
   "id": "9cd4779e-51df-4887-a667-e2271b8a983e",
   "metadata": {},
   "source": [
    "<font size = \"4\" > Citations (literature + dataset) </font>\n",
    "\n",
    "How Volatile Acidity affects red and white wine:\n",
    "Volatile Acidity in Wine. Penn State Extension. (n.d.). Retrieved April 13, 2023, from https://extension.psu.edu/volatile-acidity-in-wine#:~:text=Volatile%20acidity%20(VA)%20is%20a,taste%20of%20vinegar%20in%20wine. \n",
    "\n",
    "\n",
    "How salinity affects different types of wine:\n",
    "\n",
    "written by Alex Russan, & written by Alex Russan. (2022, February 9). The Science of Salinity in Wine. SevenFifty Daily. Retrieved April 13, 2023, from https://daily.sevenfifty.com/the-science-of-salinity-in-wine/\n",
    " \n",
    "Types of Wine and their Differences\n",
    "​​5 Types of Wine You Must Know Of. Vinovest. (n.d.). Retrieved April 14, 2023, from https://www.vinovest.co/blog/types-of-wine#:~:text=The%20unique%20characteristics%20of%20a,levels%2C%20which%20affect%20their%20taste. \n",
    "\n",
    "What Goes Into Making Various Types of Wine?\n",
    "What goes into making various types of wine? Alcohol.org. (2022, October 25). Retrieved April 14, 2023, from https://alcohol.org/statistics-information/wine-making/ \n",
    "\n",
    "Our Dataset in Kaggle:\n",
    "Wine Quality. (n.d.). Retrieved from https://www.kaggle.com/datasets/rajyellow46/wine-quality. \n"
   ]
  },
  {
   "cell_type": "code",
   "execution_count": null,
   "id": "ca7fac36-b113-40ad-b983-1130c05e03de",
   "metadata": {},
   "outputs": [],
   "source": []
  }
 ],
 "metadata": {
  "kernelspec": {
   "display_name": "R",
   "language": "R",
   "name": "ir"
  },
  "language_info": {
   "codemirror_mode": "r",
   "file_extension": ".r",
   "mimetype": "text/x-r-source",
   "name": "R",
   "pygments_lexer": "r",
   "version": "4.1.1"
  }
 },
 "nbformat": 4,
 "nbformat_minor": 5
}
